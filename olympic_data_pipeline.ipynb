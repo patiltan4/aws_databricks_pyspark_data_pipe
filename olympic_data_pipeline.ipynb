{
 "cells": [
  {
   "cell_type": "code",
   "execution_count": 0,
   "metadata": {
    "application/vnd.databricks.v1+cell": {
     "cellMetadata": {
      "byteLimit": 2048000,
      "rowLimit": 10000
     },
     "inputWidgets": {},
     "nuid": "0bfc4fb4-340b-41f9-9ebf-d420a8e6f2e6",
     "showTitle": false,
     "title": ""
    }
   },
   "outputs": [
    {
     "output_type": "display_data",
     "data": {
      "text/html": [
       "<style scoped>\n",
       "  .table-result-container {\n",
       "    max-height: 300px;\n",
       "    overflow: auto;\n",
       "  }\n",
       "  table, th, td {\n",
       "    border: 1px solid black;\n",
       "    border-collapse: collapse;\n",
       "  }\n",
       "  th, td {\n",
       "    padding: 5px;\n",
       "  }\n",
       "  th {\n",
       "    text-align: left;\n",
       "  }\n",
       "</style><div class='table-result-container'><table class='table-result'><thead style='background-color: white'><tr><th>path</th><th>name</th><th>size</th><th>modificationTime</th></tr></thead><tbody><tr><td>dbfs:/mnt/s3dataread/raw_data/</td><td>raw_data/</td><td>0</td><td>0</td></tr></tbody></table></div>"
      ]
     },
     "metadata": {
      "application/vnd.databricks.v1+output": {
       "addedWidgets": {},
       "aggData": [],
       "aggError": "",
       "aggOverflow": false,
       "aggSchema": [],
       "aggSeriesLimitReached": false,
       "aggType": "",
       "arguments": {},
       "columnCustomDisplayInfos": {},
       "data": [
        [
         "dbfs:/mnt/s3dataread/raw_data/",
         "raw_data/",
         0,
         0
        ]
       ],
       "datasetInfos": [],
       "dbfsResultPath": null,
       "isJsonSchema": true,
       "metadata": {},
       "overflow": false,
       "plotOptions": {
        "customPlotOptions": {},
        "displayType": "table",
        "pivotAggregation": null,
        "pivotColumns": null,
        "xColumns": null,
        "yColumns": null
       },
       "removedWidgets": [],
       "schema": [
        {
         "metadata": "{}",
         "name": "path",
         "type": "\"string\""
        },
        {
         "metadata": "{}",
         "name": "name",
         "type": "\"string\""
        },
        {
         "metadata": "{}",
         "name": "size",
         "type": "\"long\""
        },
        {
         "metadata": "{}",
         "name": "modificationTime",
         "type": "\"long\""
        }
       ],
       "type": "table"
      }
     },
     "output_type": "display_data"
    }
   ],
   "source": [
    "access_key = 'your_key'\n",
    "secret_key = 'your_secret_key'\n",
    "encoded_secret_key = secret_key.replace(\"/\", \"%2F\")\n",
    "aws_bucket_name = \"your_pipe_line\"\n",
    "mount_name = \"s3dataread\"\n",
    "\n",
    "dbutils.fs.mount(f\"s3a://{access_key}:{encoded_secret_key}@{aws_bucket_name}\", f\"/mnt/{mount_name}\")\n",
    "display(dbutils.fs.ls(f\"/mnt/{mount_name}\"))"
   ]
  },
  {
   "cell_type": "code",
   "execution_count": 0,
   "metadata": {
    "application/vnd.databricks.v1+cell": {
     "cellMetadata": {
      "byteLimit": 2048000,
      "rowLimit": 10000
     },
     "inputWidgets": {},
     "nuid": "c018bcc2-77e6-45d9-a855-e7160773d489",
     "showTitle": false,
     "title": ""
    }
   },
   "outputs": [
    {
     "output_type": "display_data",
     "data": {
      "text/html": [
       "\n",
       "            <div>\n",
       "                <p><b>SparkSession - hive</b></p>\n",
       "                \n",
       "        <div>\n",
       "            <p><b>SparkContext</b></p>\n",
       "\n",
       "            <p><a href=\"/?o=4315899958640358#setting/sparkui/0612-084154-qu9lak65/driver-6466903859754387813\">Spark UI</a></p>\n",
       "\n",
       "            <dl>\n",
       "              <dt>Version</dt>\n",
       "                <dd><code>v3.3.2</code></dd>\n",
       "              <dt>Master</dt>\n",
       "                <dd><code>local[8]</code></dd>\n",
       "              <dt>AppName</dt>\n",
       "                <dd><code>Databricks Shell</code></dd>\n",
       "            </dl>\n",
       "        </div>\n",
       "        \n",
       "            </div>\n",
       "        "
      ]
     },
     "metadata": {
      "application/vnd.databricks.v1+output": {
       "addedWidgets": {},
       "arguments": {},
       "data": "\n            <div>\n                <p><b>SparkSession - hive</b></p>\n                \n        <div>\n            <p><b>SparkContext</b></p>\n\n            <p><a href=\"/?o=4315899958640358#setting/sparkui/0612-084154-qu9lak65/driver-6466903859754387813\">Spark UI</a></p>\n\n            <dl>\n              <dt>Version</dt>\n                <dd><code>v3.3.2</code></dd>\n              <dt>Master</dt>\n                <dd><code>local[8]</code></dd>\n              <dt>AppName</dt>\n                <dd><code>Databricks Shell</code></dd>\n            </dl>\n        </div>\n        \n            </div>\n        ",
       "datasetInfos": [],
       "metadata": {},
       "removedWidgets": [],
       "textData": null,
       "type": "htmlSandbox"
      }
     },
     "output_type": "display_data"
    }
   ],
   "source": [
    "spark"
   ]
  },
  {
   "cell_type": "code",
   "execution_count": 0,
   "metadata": {
    "application/vnd.databricks.v1+cell": {
     "cellMetadata": {
      "byteLimit": 2048000,
      "rowLimit": 10000
     },
     "inputWidgets": {},
     "nuid": "5ee594ef-b8da-40a5-91a1-54836abc136d",
     "showTitle": false,
     "title": ""
    }
   },
   "outputs": [],
   "source": [
    "from pyspark.sql.types import StructField, StructType, IntegerType, StringType, BooleanType, DateType, DecimalType\n",
    "from pyspark.sql.functions import col, when, sum, avg, row_number,count ,round,countDistinct,dense_rank,rank\n",
    "from pyspark.sql.window import Window"
   ]
  },
  {
   "cell_type": "code",
   "execution_count": 0,
   "metadata": {
    "application/vnd.databricks.v1+cell": {
     "cellMetadata": {
      "byteLimit": 2048000,
      "rowLimit": 10000
     },
     "inputWidgets": {},
     "nuid": "41fef46a-1588-435c-b1ab-da574d82cc6a",
     "showTitle": false,
     "title": ""
    }
   },
   "outputs": [],
   "source": [
    "from pyspark.sql import SparkSession \n",
    "\n",
    "#create session\n",
    "spark = SparkSession.builder.appName(\"Olympic Data Analysis\").getOrCreate()"
   ]
  },
  {
   "cell_type": "code",
   "execution_count": 0,
   "metadata": {
    "application/vnd.databricks.v1+cell": {
     "cellMetadata": {
      "byteLimit": 2048000,
      "rowLimit": 10000
     },
     "inputWidgets": {},
     "nuid": "0f917734-a604-4526-802d-53d029b09747",
     "showTitle": false,
     "title": ""
    }
   },
   "outputs": [
    {
     "output_type": "stream",
     "name": "stdout",
     "output_type": "stream",
     "text": [
      "ls: cannot access '/mnt/s3dataread/raw_data/': No such file or directory\n"
     ]
    }
   ],
   "source": [
    "%sh ls /mnt/s3dataread/raw_data/"
   ]
  },
  {
   "cell_type": "code",
   "execution_count": 0,
   "metadata": {
    "application/vnd.databricks.v1+cell": {
     "cellMetadata": {
      "byteLimit": 2048000,
      "rowLimit": 10000
     },
     "inputWidgets": {},
     "nuid": "9dccc2ea-d9d9-422f-9ecc-b3afcacd3bb8",
     "showTitle": false,
     "title": ""
    }
   },
   "outputs": [
    {
     "output_type": "stream",
     "name": "stdout",
     "output_type": "stream",
     "text": [
      "Out[25]: [MountInfo(mountPoint='/mnt/s3dataread', source='s3a://olympic-data-pipe-tanmay', encryptionType=''),\n MountInfo(mountPoint='/databricks-datasets', source='databricks-datasets', encryptionType=''),\n MountInfo(mountPoint='/databricks/mlflow-tracking', source='databricks/mlflow-tracking', encryptionType='sse-s3'),\n MountInfo(mountPoint='/databricks-results', source='databricks-results', encryptionType='sse-s3'),\n MountInfo(mountPoint='/databricks/mlflow-registry', source='databricks/mlflow-registry', encryptionType='sse-s3'),\n MountInfo(mountPoint='/', source='DatabricksRoot', encryptionType='sse-s3')]"
     ]
    }
   ],
   "source": [
    "dbutils.fs.mounts() "
   ]
  },
  {
   "cell_type": "code",
   "execution_count": 0,
   "metadata": {
    "application/vnd.databricks.v1+cell": {
     "cellMetadata": {
      "byteLimit": 2048000,
      "rowLimit": 10000
     },
     "inputWidgets": {},
     "nuid": "2c51b6ac-a54a-4252-9dd4-9fc3214e9c88",
     "showTitle": false,
     "title": ""
    }
   },
   "outputs": [],
   "source": [
    "coaches_file = \"dbfs:/mnt/s3dataread/raw_data/Coaches.csv\"\n",
    "athletes_file = \"dbfs:/mnt/s3dataread/raw_data/Athletes.csv\"\n",
    "entriesgender_file = \"dbfs:/mnt/s3dataread/raw_data/EntriesGender.csv\"\n",
    "medals_file = \"dbfs:/mnt/s3dataread/raw_data/Medals.csv\"\n",
    "teams_file = \"dbfs:/mnt/s3dataread/raw_data/Teams.csv\""
   ]
  },
  {
   "cell_type": "code",
   "execution_count": 0,
   "metadata": {
    "application/vnd.databricks.v1+cell": {
     "cellMetadata": {
      "byteLimit": 2048000,
      "rowLimit": 10000
     },
     "inputWidgets": {},
     "nuid": "1888e8fc-540b-4933-8212-3ad5d04c01b3",
     "showTitle": false,
     "title": ""
    }
   },
   "outputs": [],
   "source": [
    "\n",
    "coaches = spark.read.csv(coaches_file, inferSchema = True, header= True)\n",
    "athletes = spark.read.csv(athletes_file, inferSchema = True, header= True)\n",
    "entriesgender = spark.read.csv(entriesgender_file, inferSchema = True, header= True)\n",
    "medals = spark.read.csv(medals_file, inferSchema = True, header= True)\n",
    "teams = spark.read.csv(teams_file, inferSchema = True, header= True)"
   ]
  },
  {
   "cell_type": "code",
   "execution_count": 0,
   "metadata": {
    "application/vnd.databricks.v1+cell": {
     "cellMetadata": {
      "byteLimit": 2048000,
      "rowLimit": 10000
     },
     "inputWidgets": {},
     "nuid": "eb90382d-c05e-43cc-8bd1-0f50c08cdb3f",
     "showTitle": false,
     "title": ""
    }
   },
   "outputs": [
    {
     "output_type": "stream",
     "name": "stdout",
     "output_type": "stream",
     "text": [
      "+--------------------+--------------------+-----------------+--------+\n|                Name|             Country|       Discipline|   Event|\n+--------------------+--------------------+-----------------+--------+\n|     ABDELMAGID Wael|               Egypt|         Football|    null|\n|           ABE Junya|               Japan|       Volleyball|    null|\n|       ABE Katsuhiko|               Japan|       Basketball|    null|\n|        ADAMA Cherif|       C�te d'Ivoire|         Football|    null|\n|          AGEBA Yuya|               Japan|       Volleyball|    null|\n|AIKMAN Siegfried ...|               Japan|           Hockey|     Men|\n|       AL SAADI Kais|             Germany|           Hockey|     Men|\n|       ALAMEDA Lonni|              Canada|Baseball/Softball|Softball|\n|     ALEKNO Vladimir|Islamic Republic ...|       Volleyball|     Men|\n|     ALEKSEEV Alexey|                 ROC|         Handball|   Women|\n+--------------------+--------------------+-----------------+--------+\nonly showing top 10 rows\n\n"
     ]
    }
   ],
   "source": [
    "coaches.show(10)"
   ]
  },
  {
   "cell_type": "code",
   "execution_count": 0,
   "metadata": {
    "application/vnd.databricks.v1+cell": {
     "cellMetadata": {
      "byteLimit": 2048000,
      "rowLimit": 10000
     },
     "inputWidgets": {},
     "nuid": "0150f339-fcb6-4690-a096-36d486d2ef62",
     "showTitle": false,
     "title": ""
    }
   },
   "outputs": [
    {
     "output_type": "stream",
     "name": "stdout",
     "output_type": "stream",
     "text": [
      "root\n |-- Name: string (nullable = true)\n |-- Country: string (nullable = true)\n |-- Discipline: string (nullable = true)\n |-- Event: string (nullable = true)\n\n"
     ]
    }
   ],
   "source": [
    "coaches.printSchema()"
   ]
  },
  {
   "cell_type": "code",
   "execution_count": 0,
   "metadata": {
    "application/vnd.databricks.v1+cell": {
     "cellMetadata": {
      "byteLimit": 2048000,
      "rowLimit": 10000
     },
     "inputWidgets": {},
     "nuid": "de5cfc99-0fc3-4c9c-989e-c52fc8cd32ba",
     "showTitle": false,
     "title": ""
    }
   },
   "outputs": [
    {
     "output_type": "stream",
     "name": "stdout",
     "output_type": "stream",
     "text": [
      "+-----------------+--------------------+-------------------+\n|       PersonName|             Country|         Discipline|\n+-----------------+--------------------+-------------------+\n|  AALERUD Katrine|              Norway|       Cycling Road|\n|      ABAD Nestor|               Spain|Artistic Gymnastics|\n|ABAGNALE Giovanni|               Italy|             Rowing|\n|   ABALDE Alberto|               Spain|         Basketball|\n|    ABALDE Tamara|               Spain|         Basketball|\n|        ABALO Luc|              France|           Handball|\n|     ABAROA Cesar|               Chile|             Rowing|\n|    ABASS Abobakr|               Sudan|           Swimming|\n| ABBASALI Hamideh|Islamic Republic ...|             Karate|\n|    ABBASOV Islam|          Azerbaijan|          Wrestling|\n+-----------------+--------------------+-------------------+\nonly showing top 10 rows\n\n"
     ]
    }
   ],
   "source": [
    "athletes.show(10)"
   ]
  },
  {
   "cell_type": "code",
   "execution_count": 0,
   "metadata": {
    "application/vnd.databricks.v1+cell": {
     "cellMetadata": {
      "byteLimit": 2048000,
      "rowLimit": 10000
     },
     "inputWidgets": {},
     "nuid": "f2c3df8b-1bb9-47b6-86c8-3aa272c945f4",
     "showTitle": false,
     "title": ""
    }
   },
   "outputs": [
    {
     "output_type": "stream",
     "name": "stdout",
     "output_type": "stream",
     "text": [
      "root\n |-- PersonName: string (nullable = true)\n |-- Country: string (nullable = true)\n |-- Discipline: string (nullable = true)\n\n"
     ]
    }
   ],
   "source": [
    "athletes.printSchema()"
   ]
  },
  {
   "cell_type": "code",
   "execution_count": 0,
   "metadata": {
    "application/vnd.databricks.v1+cell": {
     "cellMetadata": {
      "byteLimit": 2048000,
      "rowLimit": 10000
     },
     "inputWidgets": {},
     "nuid": "a72b92ae-e376-402f-901f-d9f93fd40dde",
     "showTitle": false,
     "title": ""
    }
   },
   "outputs": [
    {
     "output_type": "stream",
     "name": "stdout",
     "output_type": "stream",
     "text": [
      "+-------------------+------+----+-----+\n|         Discipline|Female|Male|Total|\n+-------------------+------+----+-----+\n|     3x3 Basketball|    32|  32|   64|\n|            Archery|    64|  64|  128|\n|Artistic Gymnastics|    98|  98|  196|\n|  Artistic Swimming|   105|   0|  105|\n|          Athletics|   969|1072| 2041|\n|          Badminton|    86|  87|  173|\n|  Baseball/Softball|    90| 144|  234|\n|         Basketball|   144| 144|  288|\n|   Beach Volleyball|    48|  48|   96|\n|             Boxing|   102| 187|  289|\n+-------------------+------+----+-----+\nonly showing top 10 rows\n\n"
     ]
    }
   ],
   "source": [
    "entriesgender.show(10)"
   ]
  },
  {
   "cell_type": "code",
   "execution_count": 0,
   "metadata": {
    "application/vnd.databricks.v1+cell": {
     "cellMetadata": {
      "byteLimit": 2048000,
      "rowLimit": 10000
     },
     "inputWidgets": {},
     "nuid": "59cec9ec-6b2f-4b37-a193-b2a7d6f66029",
     "showTitle": false,
     "title": ""
    }
   },
   "outputs": [
    {
     "output_type": "stream",
     "name": "stdout",
     "output_type": "stream",
     "text": [
      "root\n |-- Discipline: string (nullable = true)\n |-- Female: integer (nullable = true)\n |-- Male: integer (nullable = true)\n |-- Total: integer (nullable = true)\n\n"
     ]
    }
   ],
   "source": [
    "entriesgender.printSchema()"
   ]
  },
  {
   "cell_type": "code",
   "execution_count": 0,
   "metadata": {
    "application/vnd.databricks.v1+cell": {
     "cellMetadata": {
      "byteLimit": 2048000,
      "rowLimit": 10000
     },
     "inputWidgets": {},
     "nuid": "fa42423a-3bad-48d3-a67c-1445bdf44b6f",
     "showTitle": false,
     "title": ""
    }
   },
   "outputs": [
    {
     "output_type": "stream",
     "name": "stdout",
     "output_type": "stream",
     "text": [
      "+----+--------------------+----+------+------+-----+-------------+\n|Rank|        Team_Country|Gold|Silver|Bronze|Total|Rank by Total|\n+----+--------------------+----+------+------+-----+-------------+\n|   1|United States of ...|  39|    41|    33|  113|            1|\n|   2|People's Republic...|  38|    32|    18|   88|            2|\n|   3|               Japan|  27|    14|    17|   58|            5|\n|   4|       Great Britain|  22|    21|    22|   65|            4|\n|   5|                 ROC|  20|    28|    23|   71|            3|\n|   6|           Australia|  17|     7|    22|   46|            6|\n|   7|         Netherlands|  10|    12|    14|   36|            9|\n|   8|              France|  10|    12|    11|   33|           10|\n|   9|             Germany|  10|    11|    16|   37|            8|\n|  10|               Italy|  10|    10|    20|   40|            7|\n+----+--------------------+----+------+------+-----+-------------+\nonly showing top 10 rows\n\n"
     ]
    }
   ],
   "source": [
    "medals.show(10)"
   ]
  },
  {
   "cell_type": "code",
   "execution_count": 0,
   "metadata": {
    "application/vnd.databricks.v1+cell": {
     "cellMetadata": {
      "byteLimit": 2048000,
      "rowLimit": 10000
     },
     "inputWidgets": {},
     "nuid": "02474d6f-5fb3-43ab-9897-ca23dc15723c",
     "showTitle": false,
     "title": ""
    }
   },
   "outputs": [
    {
     "output_type": "stream",
     "name": "stdout",
     "output_type": "stream",
     "text": [
      "root\n |-- Rank: integer (nullable = true)\n |-- Team_Country: string (nullable = true)\n |-- Gold: integer (nullable = true)\n |-- Silver: integer (nullable = true)\n |-- Bronze: integer (nullable = true)\n |-- Total: integer (nullable = true)\n |-- Rank by Total: integer (nullable = true)\n\n"
     ]
    }
   ],
   "source": [
    "medals.printSchema()"
   ]
  },
  {
   "cell_type": "code",
   "execution_count": 0,
   "metadata": {
    "application/vnd.databricks.v1+cell": {
     "cellMetadata": {
      "byteLimit": 2048000,
      "rowLimit": 10000
     },
     "inputWidgets": {},
     "nuid": "71c48d21-9d9f-4601-8f8d-66d55721a8d5",
     "showTitle": false,
     "title": ""
    }
   },
   "outputs": [
    {
     "output_type": "stream",
     "name": "stdout",
     "output_type": "stream",
     "text": [
      "+-----------+--------------+--------------------------+-----+\n|TeamName   |Discipline    |Country                   |Event|\n+-----------+--------------+--------------------------+-----+\n|Belgium    |3x3 Basketball|Belgium                   |Men  |\n|China      |3x3 Basketball|People's Republic of China|Men  |\n|China      |3x3 Basketball|People's Republic of China|Women|\n|France     |3x3 Basketball|France                    |Women|\n|Italy      |3x3 Basketball|Italy                     |Women|\n|Japan      |3x3 Basketball|Japan                     |Men  |\n|Japan      |3x3 Basketball|Japan                     |Women|\n|Latvia     |3x3 Basketball|Latvia                    |Men  |\n|Mongolia   |3x3 Basketball|Mongolia                  |Women|\n|Netherlands|3x3 Basketball|Netherlands               |Men  |\n+-----------+--------------+--------------------------+-----+\nonly showing top 10 rows\n\n"
     ]
    }
   ],
   "source": [
    "teams.show(10,False)"
   ]
  },
  {
   "cell_type": "code",
   "execution_count": 0,
   "metadata": {
    "application/vnd.databricks.v1+cell": {
     "cellMetadata": {
      "byteLimit": 2048000,
      "rowLimit": 10000
     },
     "inputWidgets": {},
     "nuid": "4b7fe3d3-6b3e-4e02-a30d-a19abd974607",
     "showTitle": false,
     "title": ""
    }
   },
   "outputs": [
    {
     "output_type": "stream",
     "name": "stdout",
     "output_type": "stream",
     "text": [
      "root\n |-- TeamName: string (nullable = true)\n |-- Discipline: string (nullable = true)\n |-- Country: string (nullable = true)\n |-- Event: string (nullable = true)\n\n"
     ]
    }
   ],
   "source": [
    "teams.printSchema()"
   ]
  },
  {
   "cell_type": "markdown",
   "metadata": {
    "application/vnd.databricks.v1+cell": {
     "cellMetadata": {},
     "inputWidgets": {},
     "nuid": "1f19db2b-594c-4ac1-83a8-39b9b4b07262",
     "showTitle": false,
     "title": ""
    }
   },
   "source": [
    "Exploratory Data Analysis"
   ]
  },
  {
   "cell_type": "code",
   "execution_count": 0,
   "metadata": {
    "application/vnd.databricks.v1+cell": {
     "cellMetadata": {
      "byteLimit": 2048000,
      "rowLimit": 10000
     },
     "inputWidgets": {},
     "nuid": "90815ac7-1396-43f1-8fff-3fe5c221614d",
     "showTitle": false,
     "title": ""
    }
   },
   "outputs": [
    {
     "output_type": "stream",
     "name": "stdout",
     "output_type": "stream",
     "text": [
      "+-------------------+\n|         Discipline|\n+-------------------+\n|             Boxing|\n|             Rowing|\n|  Baseball/Softball|\n|               Judo|\n|           Swimming|\n|         Basketball|\n|           Handball|\n|Rhythmic Gymnastics|\n|             Karate|\n|          Badminton|\n|          Athletics|\n|           Shooting|\n|Artistic Gymnastics|\n|       Cycling Road|\n|          Wrestling|\n|       Table Tennis|\n|          Taekwondo|\n|      Weightlifting|\n|  Artistic Swimming|\n|            Fencing|\n+-------------------+\nonly showing top 20 rows\n\n"
     ]
    }
   ],
   "source": [
    "#List all the unique disciplines present in the athletes' data.\n",
    "athletes.select(\"Discipline\").distinct().show()"
   ]
  },
  {
   "cell_type": "code",
   "execution_count": 0,
   "metadata": {
    "application/vnd.databricks.v1+cell": {
     "cellMetadata": {
      "byteLimit": 2048000,
      "rowLimit": 10000
     },
     "inputWidgets": {},
     "nuid": "c0ec72c4-551b-4357-ac69-86e4f2a7760d",
     "showTitle": false,
     "title": ""
    }
   },
   "outputs": [
    {
     "output_type": "stream",
     "name": "stdout",
     "output_type": "stream",
     "text": [
      "+--------------------------+-----+\n|Country                   |count|\n+--------------------------+-----+\n|Japan                     |35   |\n|Spain                     |28   |\n|United States of America  |28   |\n|Australia                 |22   |\n|Canada                    |16   |\n|Italy                     |14   |\n|People's Republic of China|12   |\n|Egypt                     |12   |\n|South Africa              |12   |\n|ROC                       |12   |\n|Argentina                 |11   |\n|France                    |10   |\n|Venezuela                 |10   |\n|Netherlands               |10   |\n|Nigeria                   |9    |\n|Germany                   |9    |\n|Mexico                    |8    |\n|New Zealand               |8    |\n|Great Britain             |7    |\n|Republic of Korea         |7    |\n+--------------------------+-----+\nonly showing top 20 rows\n\n"
     ]
    }
   ],
   "source": [
    "#Find the total number of coaches for each country.\n",
    "coaches.groupBy('Country').count().orderBy(\"count\", ascending=False).show(20, False)"
   ]
  },
  {
   "cell_type": "code",
   "execution_count": 0,
   "metadata": {
    "application/vnd.databricks.v1+cell": {
     "cellMetadata": {
      "byteLimit": 2048000,
      "rowLimit": 10000
     },
     "inputWidgets": {},
     "nuid": "e1721b62-09d3-4458-9938-d952faf95b67",
     "showTitle": false,
     "title": ""
    }
   },
   "outputs": [
    {
     "output_type": "stream",
     "name": "stdout",
     "output_type": "stream",
     "text": [
      "+--------------------------+----+\n|Team_Country              |Gold|\n+--------------------------+----+\n|United States of America  |39  |\n|People's Republic of China|38  |\n|Japan                     |27  |\n|Great Britain             |22  |\n|ROC                       |20  |\n+--------------------------+----+\nonly showing top 5 rows\n\n"
     ]
    }
   ],
   "source": [
    "#Identify the top 5 countries with the highest number of gold medals.\n",
    "medals.orderBy(col(\"Gold\").desc()).select('Team_Country','Gold').show(5, False)"
   ]
  },
  {
   "cell_type": "markdown",
   "metadata": {
    "application/vnd.databricks.v1+cell": {
     "cellMetadata": {},
     "inputWidgets": {},
     "nuid": "a91744f7-ea1a-4d4b-a915-6883a49e6290",
     "showTitle": false,
     "title": ""
    }
   },
   "source": [
    "Deep Dive into Analysis"
   ]
  },
  {
   "cell_type": "code",
   "execution_count": 0,
   "metadata": {
    "application/vnd.databricks.v1+cell": {
     "cellMetadata": {
      "byteLimit": 2048000,
      "rowLimit": 10000
     },
     "inputWidgets": {},
     "nuid": "fb7ed9b8-2c58-4b39-be8e-92bb06e3d9bd",
     "showTitle": false,
     "title": ""
    }
   },
   "outputs": [],
   "source": [
    "#Find the top 3 countries with the highest average number of medals per athlete. Consider all types of medals (gold, silver, bronze) in the calculation.\n",
    "country_atheletes = athletes.groupBy('Country').agg(count('PersonName').alias(\"athlete_Count\"))\n",
    "medals_and_athletes = medals.join(country_atheletes, medals.Team_Country == country_atheletes.Country, \"inner\")"
   ]
  },
  {
   "cell_type": "code",
   "execution_count": 0,
   "metadata": {
    "application/vnd.databricks.v1+cell": {
     "cellMetadata": {
      "byteLimit": 2048000,
      "rowLimit": 10000
     },
     "inputWidgets": {},
     "nuid": "486b11ee-eb27-4479-bd4b-75666a40aade",
     "showTitle": false,
     "title": ""
    }
   },
   "outputs": [
    {
     "output_type": "stream",
     "name": "stdout",
     "output_type": "stream",
     "text": [
      "+----------+-----+-------------+----------------------+\n|   Country|Total|athlete_Count|Avg_Medals_Per_Athlete|\n+----------+-----+-------------+----------------------+\n|San Marino|    3|            4|                  0.75|\n|   Bermuda|    1|            2|                   0.5|\n|   Armenia|    4|           16|                  0.25|\n+----------+-----+-------------+----------------------+\nonly showing top 3 rows\n\n"
     ]
    }
   ],
   "source": [
    "medals_and_athletes = medals_and_athletes.withColumn('Avg_Medals_Per_Athlete', round(col('Total')/col('athlete_Count'),3))\n",
    "medals_and_athletes.orderBy(col('Avg_Medals_Per_Athlete').desc()).select('Country','Total','athlete_Count','Avg_Medals_Per_Athlete').show(3)"
   ]
  },
  {
   "cell_type": "code",
   "execution_count": 0,
   "metadata": {
    "application/vnd.databricks.v1+cell": {
     "cellMetadata": {
      "byteLimit": 2048000,
      "rowLimit": 10000
     },
     "inputWidgets": {},
     "nuid": "c6bdccb5-99a1-4a76-a3a3-767cddd4c695",
     "showTitle": false,
     "title": ""
    }
   },
   "outputs": [
    {
     "output_type": "stream",
     "name": "stdout",
     "output_type": "stream",
     "text": [
      "+--------------------------+-----------+\n|Team_Country              |Total_Score|\n+--------------------------+-----------+\n|United States of America  |232        |\n|People's Republic of China|196        |\n|ROC                       |139        |\n|Great Britain             |130        |\n|Japan                     |126        |\n+--------------------------+-----------+\nonly showing top 5 rows\n\n"
     ]
    }
   ],
   "source": [
    "#Determine the top 5 countries based on a weighted score, where gold medals are worth 3 points, silver medals are worth 2 points, and bronze medals are worth 1 point.\n",
    "weighted_scores = medals.withColumn(\n",
    "    \"Weighted_Score\", col(\"Gold\") * 3 + col(\"Silver\") * 2 + col(\"Bronze\")\n",
    ").groupBy(\"Team_Country\").agg(\n",
    "    sum(\"Weighted_Score\").alias(\"Total_Score\")\n",
    ").orderBy(col(\"Total_Score\").desc())\n",
    "\n",
    "weighted_scores.show(5,False)\n",
    "\n"
   ]
  },
  {
   "cell_type": "code",
   "execution_count": 0,
   "metadata": {
    "application/vnd.databricks.v1+cell": {
     "cellMetadata": {
      "byteLimit": 2048000,
      "rowLimit": 10000
     },
     "inputWidgets": {},
     "nuid": "04910404-4fd4-48e0-b108-5a32c4794ec7",
     "showTitle": false,
     "title": ""
    }
   },
   "outputs": [],
   "source": [
    "#For each country, find the coach with the most number of disciplines coached. If there is a tie, include all relevant coaches.\n",
    "coach_discipline_count = coaches.groupBy(\"Country\", \"Name\").agg(\n",
    "    countDistinct(\"Discipline\").alias(\"Num_Disciplines\")\n",
    ")"
   ]
  },
  {
   "cell_type": "code",
   "execution_count": 0,
   "metadata": {
    "application/vnd.databricks.v1+cell": {
     "cellMetadata": {
      "byteLimit": 2048000,
      "rowLimit": 10000
     },
     "inputWidgets": {},
     "nuid": "cffc9b19-ee5b-4707-a228-c280b1191904",
     "showTitle": false,
     "title": ""
    }
   },
   "outputs": [
    {
     "output_type": "stream",
     "name": "stdout",
     "output_type": "stream",
     "text": [
      "+--------------------+------+----+-----+------------------+\n|          Discipline|Female|Male|Total| Female_Male_Ratio|\n+--------------------+------+----+-----+------------------+\n|Cycling BMX Frees...|    10|   9|   19|1.1111111111111112|\n|              Diving|    72|  71|  143|1.0140845070422535|\n|      3x3 Basketball|    32|  32|   64|               1.0|\n+--------------------+------+----+-----+------------------+\n\n"
     ]
    }
   ],
   "source": [
    "#the top 3 disciplines with the highest ratio of female to male participants.\n",
    "ratio_female_to_male = entriesgender.withColumn(\n",
    "    \"Female_Male_Ratio\", col(\"Female\") / col(\"Male\")\n",
    ").orderBy(col(\"Female_Male_Ratio\").desc()).limit(3)\n",
    "\n",
    "ratio_female_to_male.show()\n"
   ]
  },
  {
   "cell_type": "code",
   "execution_count": 0,
   "metadata": {
    "application/vnd.databricks.v1+cell": {
     "cellMetadata": {
      "byteLimit": 2048000,
      "rowLimit": 10000
     },
     "inputWidgets": {},
     "nuid": "8f0daee0-7042-4bea-a6b9-b64e824c2abe",
     "showTitle": false,
     "title": ""
    }
   },
   "outputs": [
    {
     "output_type": "stream",
     "name": "stdout",
     "output_type": "stream",
     "text": [
      "+------------------+\n|      Team_Country|\n+------------------+\n|          Colombia|\n|        Azerbaijan|\n|Dominican Republic|\n|           Armenia|\n|        Kyrgyzstan|\n|          Mongolia|\n|         Argentina|\n|        San Marino|\n|            Jordan|\n|          Malaysia|\n|           Nigeria|\n+------------------+\n\n"
     ]
    }
   ],
   "source": [
    "#the countries that have never won a gold medal but have won at least one silver and one bronze medal.\n",
    "no_gold_countries = medals.filter(\n",
    "    (col(\"Gold\") == 0) & (col(\"Silver\") > 0) & (col(\"Bronze\") > 0)\n",
    ").select(\"Team_Country\")\n",
    "\n",
    "no_gold_countries.show()\n"
   ]
  },
  {
   "cell_type": "code",
   "execution_count": 0,
   "metadata": {
    "application/vnd.databricks.v1+cell": {
     "cellMetadata": {
      "byteLimit": 2048000,
      "rowLimit": 10000
     },
     "inputWidgets": {},
     "nuid": "13e033bb-b974-4710-99b1-bcccd12d40d5",
     "showTitle": false,
     "title": ""
    }
   },
   "outputs": [
    {
     "output_type": "stream",
     "name": "stdout",
     "output_type": "stream",
     "text": [
      "+--------------------+----------+-----+\n|             Country|Discipline|count|\n+--------------------+----------+-----+\n|United States of ...| Athletics|  144|\n|             Germany| Athletics|   95|\n|       Great Britain| Athletics|   75|\n|               Italy| Athletics|   73|\n|               Japan| Athletics|   70|\n+--------------------+----------+-----+\n\n"
     ]
    }
   ],
   "source": [
    "#country and discipline pair with the highest number of athletes, and list the top 5 such pairs\n",
    "country_discipline_athletes = athletes.groupBy(\"Country\", \"Discipline\").count().alias(\"Num_Athletes\")\n",
    "top_5_pairs = country_discipline_athletes.orderBy(col(\"count\").desc()).limit(5)\n",
    "\n",
    "top_5_pairs.show()\n"
   ]
  }
 ],
 "metadata": {
  "application/vnd.databricks.v1+notebook": {
   "dashboards": [],
   "environmentMetadata": null,
   "language": "python",
   "notebookMetadata": {
    "mostRecentlyExecutedCommandWithImplicitDF": {
     "commandId": 3265064397536098,
     "dataframes": [
      "_sqldf"
     ]
    },
    "pythonIndentUnit": 4
   },
   "notebookName": "olympic_data_pipeline",
   "widgets": {}
  }
 },
 "nbformat": 4,
 "nbformat_minor": 0
}
